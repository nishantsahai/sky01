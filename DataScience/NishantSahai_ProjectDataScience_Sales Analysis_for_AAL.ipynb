{
 "cells": [
  {
   "cell_type": "markdown",
   "id": "cc6957f9-4fc3-4f3f-bec8-d299db5d3532",
   "metadata": {},
   "source": [
    "<h3><u><font color='Purple'>Sales Analysis of AAL company using year 2020 Q4 sales data</font></u></h3>"
   ]
  },
  {
   "cell_type": "code",
   "execution_count": 2,
   "id": "cea7792f-ebc6-4d83-a38b-c9db1d2bda9c",
   "metadata": {
    "tags": []
   },
   "outputs": [
    {
     "name": "stdout",
     "output_type": "stream",
     "text": [
      "         Date        Time State     Group  Unit  Sales\n",
      "0  1-Oct-2020     Morning    WA      Kids     8  20000\n",
      "1  1-Oct-2020     Morning    WA       Men     8  20000\n",
      "2  1-Oct-2020     Morning    WA     Women     4  10000\n",
      "3  1-Oct-2020     Morning    WA   Seniors    15  37500\n",
      "4  1-Oct-2020   Afternoon    WA      Kids     3   7500\n"
     ]
    }
   ],
   "source": [
    "import pandas as pd\n",
    "\n",
    "#Importing data. Reading CSV file\n",
    "df = pd.read_csv('AusApparalSales4thQrt2020.csv')\n",
    "#Printing top 5 rows\n",
    "print(df.head(5))"
   ]
  },
  {
   "cell_type": "markdown",
   "id": "36051cf2-d84d-4476-a6c7-e338e9464dc0",
   "metadata": {},
   "source": [
    "<b>Question:</b>\n",
    "<h4> 1. <u> Data Wrangling</u></h4>\n",
    "<p> a) Ensure that the data is clean and that there is no missing or incorrect data. \n",
    "    ○ Inspect the data manually for missing/incorrect data using the functions isna(), and notna().</p>\n",
    "<p> b) Based on your knowledge of Data Analytics, include your recommendations for treating missing data and incorrect data. (dropping the null values or filling them).<p>\n",
    "<p> c) Select an appropriate Data Wrangling approach —  data standardization or data normalization. Perform the standardization or normalization and present the data. (Normalization is the preferred approach for this problem.)<p>\n",
    "<p> d) Share your recommendation on the usage of the groupby() function for data chunking or merging.<p>"
   ]
  },
  {
   "cell_type": "markdown",
   "id": "f601f4a3-ddbc-4fe6-96ac-a1a54de9b940",
   "metadata": {},
   "source": [
    "<h5> a) Checking for missing data <h5>"
   ]
  },
  {
   "cell_type": "code",
   "execution_count": 3,
   "id": "1ed408d8-6609-43ba-be86-05bf62069160",
   "metadata": {
    "tags": []
   },
   "outputs": [
    {
     "name": "stdout",
     "output_type": "stream",
     "text": [
      "Column wise count of fields which has missing data --\n",
      "Date     0\n",
      "Time     0\n",
      "State    0\n",
      "Group    0\n",
      "Unit     0\n",
      "Sales    0\n",
      "dtype: int64\n"
     ]
    }
   ],
   "source": [
    "#Step 1: Data Wrangling\n",
    "\n",
    "# Checking for missing data\n",
    "print(\"Column wise count of fields which has missing data --\")\n",
    "print(df.isna().sum())"
   ]
  },
  {
   "cell_type": "code",
   "execution_count": 5,
   "id": "d066dd85-1432-4c6c-bd8e-f66ce5996771",
   "metadata": {
    "tags": []
   },
   "outputs": [
    {
     "name": "stdout",
     "output_type": "stream",
     "text": [
      "Column wise count of fields which are filled --\n",
      "Date     7560\n",
      "Time     7560\n",
      "State    7560\n",
      "Group    7560\n",
      "Unit     7560\n",
      "Sales    7560\n",
      "dtype: int64\n"
     ]
    }
   ],
   "source": [
    "print(\"Column wise count of fields which are filled --\")\n",
    "print(df.notna().sum())"
   ]
  },
  {
   "cell_type": "code",
   "execution_count": 6,
   "id": "c00df717-943f-4977-995f-e4e5dba8d961",
   "metadata": {
    "tags": []
   },
   "outputs": [
    {
     "name": "stdout",
     "output_type": "stream",
     "text": [
      "All fields are filled\n"
     ]
    }
   ],
   "source": [
    "count = 0\n",
    "for col in df.columns: \n",
    "    if df[col].notna().sum() != len(df[col]):\n",
    "        count +=1\n",
    "if count != 0:\n",
    "    print(\"Number of fields which are not NA\", count)\n",
    "else:\n",
    "    print(\"All fields are filled\")  "
   ]
  },
  {
   "cell_type": "code",
   "execution_count": 7,
   "id": "a21a429a-7fd0-436b-811c-0e83a2329450",
   "metadata": {
    "tags": []
   },
   "outputs": [
    {
     "data": {
      "text/plain": [
       "0"
      ]
     },
     "execution_count": 7,
     "metadata": {},
     "output_type": "execute_result"
    }
   ],
   "source": [
    "#Checking for duplicate date\n",
    "df.duplicated().sum()"
   ]
  },
  {
   "cell_type": "markdown",
   "id": "247d17d3-6687-4e65-ad0b-92bd315dee69",
   "metadata": {},
   "source": [
    "<ol><b><font color='blue'>Result of a)</font></b>: \n",
    "<li>No missing data found.</li>\n",
    "<li>No incorrect data found.</li>\n",
    "<li>No Duplicate data found.</li></ol>"
   ]
  },
  {
   "cell_type": "markdown",
   "id": "4473c555-3275-401d-9a2e-2c21935f6ad0",
   "metadata": {
    "tags": []
   },
   "source": [
    "<h5><font color='blue'> b) My recommendation: </font></h5>\n",
    "<ul>\n",
    "    <li>Dropping a row which has has incorrect or irrelevant data entry.</li>\n",
    "    <li>Missing entry can be filled by mean if column datatype is numeric otherwise most frequent value (mode) for string column datatype could be used. </li>\n",
    "</ul>"
   ]
  },
  {
   "cell_type": "markdown",
   "id": "7befca0c-7063-4de3-b58f-fecc6f9babab",
   "metadata": {},
   "source": [
    "<h5> c) Data Standartization or Normalization </h5>"
   ]
  },
  {
   "cell_type": "code",
   "execution_count": 8,
   "id": "b7c80821-03c8-4132-9661-c9b2d2b6f13b",
   "metadata": {
    "tags": []
   },
   "outputs": [
    {
     "name": "stdout",
     "output_type": "stream",
     "text": [
      "object\n"
     ]
    }
   ],
   "source": [
    "print(df.dtypes['Date'])"
   ]
  },
  {
   "cell_type": "code",
   "execution_count": 9,
   "id": "4c41d528-94ee-4f90-b38c-e51e36af71ea",
   "metadata": {
    "tags": []
   },
   "outputs": [
    {
     "name": "stdout",
     "output_type": "stream",
     "text": [
      "datetime64[ns]\n"
     ]
    }
   ],
   "source": [
    "#Converting datatype of 'Date' column to datetype\n",
    "df['Date'] = pd.to_datetime(df['Date'])\n",
    "print(df.dtypes['Date'])"
   ]
  },
  {
   "cell_type": "code",
   "execution_count": 10,
   "id": "e4ece339-2b7e-4b75-acda-4a581e2b0325",
   "metadata": {
    "tags": []
   },
   "outputs": [
    {
     "data": {
      "text/html": [
       "<div>\n",
       "<style scoped>\n",
       "    .dataframe tbody tr th:only-of-type {\n",
       "        vertical-align: middle;\n",
       "    }\n",
       "\n",
       "    .dataframe tbody tr th {\n",
       "        vertical-align: top;\n",
       "    }\n",
       "\n",
       "    .dataframe thead th {\n",
       "        text-align: right;\n",
       "    }\n",
       "</style>\n",
       "<table border=\"1\" class=\"dataframe\">\n",
       "  <thead>\n",
       "    <tr style=\"text-align: right;\">\n",
       "      <th></th>\n",
       "      <th>Date</th>\n",
       "      <th>Time</th>\n",
       "      <th>State</th>\n",
       "      <th>Group</th>\n",
       "      <th>Unit</th>\n",
       "      <th>Sales</th>\n",
       "      <th>Sales_log</th>\n",
       "    </tr>\n",
       "  </thead>\n",
       "  <tbody>\n",
       "    <tr>\n",
       "      <th>0</th>\n",
       "      <td>2020-10-01</td>\n",
       "      <td>Morning</td>\n",
       "      <td>WA</td>\n",
       "      <td>Kids</td>\n",
       "      <td>8</td>\n",
       "      <td>20000</td>\n",
       "      <td>9.903488</td>\n",
       "    </tr>\n",
       "    <tr>\n",
       "      <th>1</th>\n",
       "      <td>2020-10-01</td>\n",
       "      <td>Morning</td>\n",
       "      <td>WA</td>\n",
       "      <td>Men</td>\n",
       "      <td>8</td>\n",
       "      <td>20000</td>\n",
       "      <td>9.903488</td>\n",
       "    </tr>\n",
       "    <tr>\n",
       "      <th>2</th>\n",
       "      <td>2020-10-01</td>\n",
       "      <td>Morning</td>\n",
       "      <td>WA</td>\n",
       "      <td>Women</td>\n",
       "      <td>4</td>\n",
       "      <td>10000</td>\n",
       "      <td>9.210340</td>\n",
       "    </tr>\n",
       "    <tr>\n",
       "      <th>3</th>\n",
       "      <td>2020-10-01</td>\n",
       "      <td>Morning</td>\n",
       "      <td>WA</td>\n",
       "      <td>Seniors</td>\n",
       "      <td>15</td>\n",
       "      <td>37500</td>\n",
       "      <td>10.532096</td>\n",
       "    </tr>\n",
       "    <tr>\n",
       "      <th>4</th>\n",
       "      <td>2020-10-01</td>\n",
       "      <td>Afternoon</td>\n",
       "      <td>WA</td>\n",
       "      <td>Kids</td>\n",
       "      <td>3</td>\n",
       "      <td>7500</td>\n",
       "      <td>8.922658</td>\n",
       "    </tr>\n",
       "  </tbody>\n",
       "</table>\n",
       "</div>"
      ],
      "text/plain": [
       "        Date        Time State     Group  Unit  Sales  Sales_log\n",
       "0 2020-10-01     Morning    WA      Kids     8  20000   9.903488\n",
       "1 2020-10-01     Morning    WA       Men     8  20000   9.903488\n",
       "2 2020-10-01     Morning    WA     Women     4  10000   9.210340\n",
       "3 2020-10-01     Morning    WA   Seniors    15  37500  10.532096\n",
       "4 2020-10-01   Afternoon    WA      Kids     3   7500   8.922658"
      ]
     },
     "execution_count": 10,
     "metadata": {},
     "output_type": "execute_result"
    }
   ],
   "source": [
    "#Normalizing 'Sales' column\n",
    "import numpy as np\n",
    "df['Sales_log'] = df['Sales'].apply(lambda x: np.log(x))\n",
    "df.head()"
   ]
  },
  {
   "cell_type": "markdown",
   "id": "574dc152-8385-4c58-84a9-0c9ea26569f3",
   "metadata": {},
   "source": [
    "<h5> d) Groupby function for Data Chunking or Merging </h5> "
   ]
  },
  {
   "cell_type": "code",
   "execution_count": 11,
   "id": "c46d941e-563d-471a-8442-8afae7580410",
   "metadata": {
    "tags": []
   },
   "outputs": [
    {
     "data": {
      "text/plain": [
       "State\n",
       " NSW     74970000\n",
       " NT      22580000\n",
       " QLD     33417500\n",
       " SA      58857500\n",
       " TAS     22760000\n",
       " VIC    105565000\n",
       " WA      22152500\n",
       "Name: Sales, dtype: int64"
      ]
     },
     "execution_count": 11,
     "metadata": {},
     "output_type": "execute_result"
    }
   ],
   "source": [
    "#Getting sum of entire quarter sales for each state using groupby function\n",
    "df.groupby('State')['Sales'].sum()"
   ]
  },
  {
   "cell_type": "code",
   "execution_count": 12,
   "id": "4efda249-b61c-4b4f-b977-76911e80d93f",
   "metadata": {
    "tags": []
   },
   "outputs": [
    {
     "data": {
      "text/plain": [
       "Group\n",
       " Kids       162500\n",
       " Men        160000\n",
       " Seniors    162500\n",
       " Women      162500\n",
       "Name: Sales, dtype: int64"
      ]
     },
     "execution_count": 12,
     "metadata": {},
     "output_type": "execute_result"
    }
   ],
   "source": [
    "#Getting max sales in each group using groupby function\n",
    "df.groupby('Group')['Sales'].max()"
   ]
  },
  {
   "cell_type": "code",
   "execution_count": 13,
   "id": "264c6c11-542d-4fd0-8ced-1342cc443a7b",
   "metadata": {
    "tags": []
   },
   "outputs": [
    {
     "name": "stdout",
     "output_type": "stream",
     "text": [
      "           Date        Time State  Group  Unit   Sales  Sales_log\n",
      "60   2020-10-01     Morning   NSW   Kids    39   97500  11.487608\n",
      "64   2020-10-01   Afternoon   NSW   Kids    40  100000  11.512925\n",
      "68   2020-10-01     Evening   NSW   Kids    22   55000  10.915088\n",
      "144  2020-10-02     Morning   NSW   Kids    32   80000  11.289782\n",
      "148  2020-10-02   Afternoon   NSW   Kids    33   82500  11.320554\n",
      "...         ...         ...   ...    ...   ...     ...        ...\n",
      "7456 2020-12-29   Afternoon   NSW   Kids    34   85000  11.350407\n",
      "7460 2020-12-29     Evening   NSW   Kids    40  100000  11.512925\n",
      "7536 2020-12-30     Morning   NSW   Kids    27   67500  11.119883\n",
      "7540 2020-12-30   Afternoon   NSW   Kids    35   87500  11.379394\n",
      "7544 2020-12-30     Evening   NSW   Kids    37   92500  11.434964\n",
      "\n",
      "[270 rows x 7 columns]\n"
     ]
    }
   ],
   "source": [
    "#Grouping the data with state and group and fetching data of 'Kids' in 'New South Wales' state. \n",
    "gr = df.groupby(['State', 'Group'])\n",
    "print(gr.get_group((' NSW', ' Kids')))"
   ]
  },
  {
   "cell_type": "markdown",
   "id": "a8711f51-1784-4702-9fe3-ddeb8e24c4d0",
   "metadata": {
    "tags": []
   },
   "source": [
    "<tr></tr>"
   ]
  },
  {
   "cell_type": "raw",
   "id": "d659eab0-b769-49f8-ac19-9c269cf5f7c8",
   "metadata": {},
   "source": [
    "=========================================================================================================================="
   ]
  },
  {
   "cell_type": "markdown",
   "id": "dbac914c-db76-46f7-b3af-c616dbd86d9a",
   "metadata": {
    "tags": []
   },
   "source": [
    "<b>Questing 2</b>\n",
    "<h4>2. <u> Data Analysis </u></h4>\n",
    "<p>a) Perform descriptive statistical analysis on the data (Sales and Unit columns) (Techniques such as mean, median, mode and standard deviation can be used.). </p>\n",
    "<p>b) Determine which group is generating the highest sales, and which group is generating the lowest sales.</p>\n",
    "<p>c) Determine which state is generating the highest sales, and which state is generating the lowest sales.</p>\n",
    "<p>d) Generate weekly, monthly and quarterly reports for the analysis made.<p>\n",
    "(Use suitable libraries such as NumPy, Pandas, SciPy etc. for performing the analysis.)\n"
   ]
  },
  {
   "cell_type": "markdown",
   "id": "2191c240-303d-4103-92f5-ded78ab17bac",
   "metadata": {},
   "source": [
    "<h5> a) Finding Mean, Standard Deviation and other stats of 'Sales' and 'Unit' column </h5>"
   ]
  },
  {
   "cell_type": "code",
   "execution_count": 53,
   "id": "a46de9a6-7159-4b10-be68-4ac70095252d",
   "metadata": {
    "tags": []
   },
   "outputs": [
    {
     "data": {
      "text/html": [
       "<div>\n",
       "<style scoped>\n",
       "    .dataframe tbody tr th:only-of-type {\n",
       "        vertical-align: middle;\n",
       "    }\n",
       "\n",
       "    .dataframe tbody tr th {\n",
       "        vertical-align: top;\n",
       "    }\n",
       "\n",
       "    .dataframe thead th {\n",
       "        text-align: right;\n",
       "    }\n",
       "</style>\n",
       "<table border=\"1\" class=\"dataframe\">\n",
       "  <thead>\n",
       "    <tr style=\"text-align: right;\">\n",
       "      <th></th>\n",
       "      <th>Sales</th>\n",
       "      <th>Unit</th>\n",
       "    </tr>\n",
       "  </thead>\n",
       "  <tbody>\n",
       "    <tr>\n",
       "      <th>count</th>\n",
       "      <td>7560.000000</td>\n",
       "      <td>7560.000000</td>\n",
       "    </tr>\n",
       "    <tr>\n",
       "      <th>mean</th>\n",
       "      <td>45013.558201</td>\n",
       "      <td>18.005423</td>\n",
       "    </tr>\n",
       "    <tr>\n",
       "      <th>std</th>\n",
       "      <td>32253.506944</td>\n",
       "      <td>12.901403</td>\n",
       "    </tr>\n",
       "    <tr>\n",
       "      <th>min</th>\n",
       "      <td>5000.000000</td>\n",
       "      <td>2.000000</td>\n",
       "    </tr>\n",
       "    <tr>\n",
       "      <th>25%</th>\n",
       "      <td>20000.000000</td>\n",
       "      <td>8.000000</td>\n",
       "    </tr>\n",
       "    <tr>\n",
       "      <th>50%</th>\n",
       "      <td>35000.000000</td>\n",
       "      <td>14.000000</td>\n",
       "    </tr>\n",
       "    <tr>\n",
       "      <th>75%</th>\n",
       "      <td>65000.000000</td>\n",
       "      <td>26.000000</td>\n",
       "    </tr>\n",
       "    <tr>\n",
       "      <th>max</th>\n",
       "      <td>162500.000000</td>\n",
       "      <td>65.000000</td>\n",
       "    </tr>\n",
       "  </tbody>\n",
       "</table>\n",
       "</div>"
      ],
      "text/plain": [
       "               Sales         Unit\n",
       "count    7560.000000  7560.000000\n",
       "mean    45013.558201    18.005423\n",
       "std     32253.506944    12.901403\n",
       "min      5000.000000     2.000000\n",
       "25%     20000.000000     8.000000\n",
       "50%     35000.000000    14.000000\n",
       "75%     65000.000000    26.000000\n",
       "max    162500.000000    65.000000"
      ]
     },
     "execution_count": 53,
     "metadata": {},
     "output_type": "execute_result"
    }
   ],
   "source": [
    "df[['Sales', 'Unit']].describe()"
   ]
  },
  {
   "cell_type": "markdown",
   "id": "6e9d8fc8-4730-487b-bc1f-784bd1686c78",
   "metadata": {
    "tags": []
   },
   "source": [
    "<h5> b) Determine which group is generating the highest sales, and which group is generating the lowest sales </h5>"
   ]
  },
  {
   "cell_type": "code",
   "execution_count": 14,
   "id": "2a6c453e-0225-43de-869e-beac6141a92f",
   "metadata": {
    "tags": []
   },
   "outputs": [
    {
     "name": "stdout",
     "output_type": "stream",
     "text": [
      "Group\n",
      " Kids       85072500\n",
      " Men        85750000\n",
      " Seniors    84037500\n",
      " Women      85442500\n",
      "Name: Sales, dtype: int64\n",
      "\n",
      "Maximum sales by group: Men\n",
      "Total sales by group  Men is 85750000\n"
     ]
    }
   ],
   "source": [
    "#Sales of Groups \n",
    "print(df.groupby('Group')['Sales'].sum())\n",
    "#Finding Maximum sales by group\n",
    "print(\"\\nMaximum sales by group:{0}\".format(df.groupby('Group')['Sales'].sum().idxmax()))\n",
    "print(\"Total sales by group {0} is {1}\".format(df.groupby('Group')['Sales'].sum().idxmax(), df.groupby('Group')['Sales'].sum().max()))"
   ]
  },
  {
   "cell_type": "markdown",
   "id": "d9f76f3c-6521-48cb-8b1c-93139ce9ff10",
   "metadata": {
    "tags": []
   },
   "source": [
    "<h5> c) Determine which state is generating the highest sales, and which state is generating the lowest sales. </h5>"
   ]
  },
  {
   "cell_type": "code",
   "execution_count": 15,
   "id": "8cacc7e8-8b37-43a2-9658-6f382f86648c",
   "metadata": {
    "tags": []
   },
   "outputs": [
    {
     "name": "stdout",
     "output_type": "stream",
     "text": [
      "State\n",
      " NSW     74970000\n",
      " NT      22580000\n",
      " QLD     33417500\n",
      " SA      58857500\n",
      " TAS     22760000\n",
      " VIC    105565000\n",
      " WA      22152500\n",
      "Name: Sales, dtype: int64\n",
      "\n",
      "Maximum sales by State: VIC\n",
      "Total sales by State  VIC is 105565000\n"
     ]
    }
   ],
   "source": [
    "#Sales of States \n",
    "print(df.groupby('State')['Sales'].sum())\n",
    "#Finding Maximum sales by state\n",
    "print(\"\\nMaximum sales by State:{0}\".format(df.groupby('State')['Sales'].sum().idxmax()))\n",
    "print(\"Total sales by State {0} is {1}\".format(df.groupby('State')['Sales'].sum().idxmax(), df.groupby('State')['Sales'].sum().max()))"
   ]
  },
  {
   "cell_type": "markdown",
   "id": "1ff1603f-4dd0-4e3a-8a7d-e018db29baae",
   "metadata": {
    "tags": []
   },
   "source": [
    "<h5> d) Generate weekly, monthly and quarterly reports for the analysis made.</h5>"
   ]
  },
  {
   "cell_type": "code",
   "execution_count": 39,
   "id": "517d98de-31f5-45d8-9f37-2544a8b6309c",
   "metadata": {
    "tags": []
   },
   "outputs": [
    {
     "data": {
      "text/html": [
       "<div>\n",
       "<style scoped>\n",
       "    .dataframe tbody tr th:only-of-type {\n",
       "        vertical-align: middle;\n",
       "    }\n",
       "\n",
       "    .dataframe tbody tr th {\n",
       "        vertical-align: top;\n",
       "    }\n",
       "\n",
       "    .dataframe thead th {\n",
       "        text-align: right;\n",
       "    }\n",
       "</style>\n",
       "<table border=\"1\" class=\"dataframe\">\n",
       "  <thead>\n",
       "    <tr style=\"text-align: right;\">\n",
       "      <th></th>\n",
       "      <th>Date</th>\n",
       "      <th>Time</th>\n",
       "      <th>State</th>\n",
       "      <th>Group</th>\n",
       "      <th>Unit</th>\n",
       "      <th>Sales</th>\n",
       "      <th>Sales_log</th>\n",
       "      <th>Month</th>\n",
       "      <th>Quarter</th>\n",
       "      <th>Week_of_Year</th>\n",
       "    </tr>\n",
       "  </thead>\n",
       "  <tbody>\n",
       "    <tr>\n",
       "      <th>0</th>\n",
       "      <td>2020-10-01</td>\n",
       "      <td>Morning</td>\n",
       "      <td>WA</td>\n",
       "      <td>Kids</td>\n",
       "      <td>8</td>\n",
       "      <td>20000</td>\n",
       "      <td>9.903488</td>\n",
       "      <td>10</td>\n",
       "      <td>4</td>\n",
       "      <td>40</td>\n",
       "    </tr>\n",
       "    <tr>\n",
       "      <th>1</th>\n",
       "      <td>2020-10-01</td>\n",
       "      <td>Morning</td>\n",
       "      <td>WA</td>\n",
       "      <td>Men</td>\n",
       "      <td>8</td>\n",
       "      <td>20000</td>\n",
       "      <td>9.903488</td>\n",
       "      <td>10</td>\n",
       "      <td>4</td>\n",
       "      <td>40</td>\n",
       "    </tr>\n",
       "    <tr>\n",
       "      <th>2</th>\n",
       "      <td>2020-10-01</td>\n",
       "      <td>Morning</td>\n",
       "      <td>WA</td>\n",
       "      <td>Women</td>\n",
       "      <td>4</td>\n",
       "      <td>10000</td>\n",
       "      <td>9.210340</td>\n",
       "      <td>10</td>\n",
       "      <td>4</td>\n",
       "      <td>40</td>\n",
       "    </tr>\n",
       "    <tr>\n",
       "      <th>3</th>\n",
       "      <td>2020-10-01</td>\n",
       "      <td>Morning</td>\n",
       "      <td>WA</td>\n",
       "      <td>Seniors</td>\n",
       "      <td>15</td>\n",
       "      <td>37500</td>\n",
       "      <td>10.532096</td>\n",
       "      <td>10</td>\n",
       "      <td>4</td>\n",
       "      <td>40</td>\n",
       "    </tr>\n",
       "    <tr>\n",
       "      <th>4</th>\n",
       "      <td>2020-10-01</td>\n",
       "      <td>Afternoon</td>\n",
       "      <td>WA</td>\n",
       "      <td>Kids</td>\n",
       "      <td>3</td>\n",
       "      <td>7500</td>\n",
       "      <td>8.922658</td>\n",
       "      <td>10</td>\n",
       "      <td>4</td>\n",
       "      <td>40</td>\n",
       "    </tr>\n",
       "    <tr>\n",
       "      <th>...</th>\n",
       "      <td>...</td>\n",
       "      <td>...</td>\n",
       "      <td>...</td>\n",
       "      <td>...</td>\n",
       "      <td>...</td>\n",
       "      <td>...</td>\n",
       "      <td>...</td>\n",
       "      <td>...</td>\n",
       "      <td>...</td>\n",
       "      <td>...</td>\n",
       "    </tr>\n",
       "    <tr>\n",
       "      <th>7555</th>\n",
       "      <td>2020-12-30</td>\n",
       "      <td>Afternoon</td>\n",
       "      <td>TAS</td>\n",
       "      <td>Seniors</td>\n",
       "      <td>14</td>\n",
       "      <td>35000</td>\n",
       "      <td>10.463103</td>\n",
       "      <td>12</td>\n",
       "      <td>4</td>\n",
       "      <td>53</td>\n",
       "    </tr>\n",
       "    <tr>\n",
       "      <th>7556</th>\n",
       "      <td>2020-12-30</td>\n",
       "      <td>Evening</td>\n",
       "      <td>TAS</td>\n",
       "      <td>Kids</td>\n",
       "      <td>15</td>\n",
       "      <td>37500</td>\n",
       "      <td>10.532096</td>\n",
       "      <td>12</td>\n",
       "      <td>4</td>\n",
       "      <td>53</td>\n",
       "    </tr>\n",
       "    <tr>\n",
       "      <th>7557</th>\n",
       "      <td>2020-12-30</td>\n",
       "      <td>Evening</td>\n",
       "      <td>TAS</td>\n",
       "      <td>Men</td>\n",
       "      <td>15</td>\n",
       "      <td>37500</td>\n",
       "      <td>10.532096</td>\n",
       "      <td>12</td>\n",
       "      <td>4</td>\n",
       "      <td>53</td>\n",
       "    </tr>\n",
       "    <tr>\n",
       "      <th>7558</th>\n",
       "      <td>2020-12-30</td>\n",
       "      <td>Evening</td>\n",
       "      <td>TAS</td>\n",
       "      <td>Women</td>\n",
       "      <td>11</td>\n",
       "      <td>27500</td>\n",
       "      <td>10.221941</td>\n",
       "      <td>12</td>\n",
       "      <td>4</td>\n",
       "      <td>53</td>\n",
       "    </tr>\n",
       "    <tr>\n",
       "      <th>7559</th>\n",
       "      <td>2020-12-30</td>\n",
       "      <td>Evening</td>\n",
       "      <td>TAS</td>\n",
       "      <td>Seniors</td>\n",
       "      <td>13</td>\n",
       "      <td>32500</td>\n",
       "      <td>10.388995</td>\n",
       "      <td>12</td>\n",
       "      <td>4</td>\n",
       "      <td>53</td>\n",
       "    </tr>\n",
       "  </tbody>\n",
       "</table>\n",
       "<p>7560 rows × 10 columns</p>\n",
       "</div>"
      ],
      "text/plain": [
       "           Date        Time State     Group  Unit  Sales  Sales_log  Month  \\\n",
       "0    2020-10-01     Morning    WA      Kids     8  20000   9.903488     10   \n",
       "1    2020-10-01     Morning    WA       Men     8  20000   9.903488     10   \n",
       "2    2020-10-01     Morning    WA     Women     4  10000   9.210340     10   \n",
       "3    2020-10-01     Morning    WA   Seniors    15  37500  10.532096     10   \n",
       "4    2020-10-01   Afternoon    WA      Kids     3   7500   8.922658     10   \n",
       "...         ...         ...   ...       ...   ...    ...        ...    ...   \n",
       "7555 2020-12-30   Afternoon   TAS   Seniors    14  35000  10.463103     12   \n",
       "7556 2020-12-30     Evening   TAS      Kids    15  37500  10.532096     12   \n",
       "7557 2020-12-30     Evening   TAS       Men    15  37500  10.532096     12   \n",
       "7558 2020-12-30     Evening   TAS     Women    11  27500  10.221941     12   \n",
       "7559 2020-12-30     Evening   TAS   Seniors    13  32500  10.388995     12   \n",
       "\n",
       "      Quarter  Week_of_Year  \n",
       "0           4            40  \n",
       "1           4            40  \n",
       "2           4            40  \n",
       "3           4            40  \n",
       "4           4            40  \n",
       "...       ...           ...  \n",
       "7555        4            53  \n",
       "7556        4            53  \n",
       "7557        4            53  \n",
       "7558        4            53  \n",
       "7559        4            53  \n",
       "\n",
       "[7560 rows x 10 columns]"
      ]
     },
     "execution_count": 39,
     "metadata": {},
     "output_type": "execute_result"
    }
   ],
   "source": [
    "#Adding column for month, quarter and week of the year\n",
    "df['Month'] = pd.to_datetime(df['Date']).dt.month\n",
    "df['Quarter'] = pd.to_datetime(df['Date']).dt.quarter\n",
    "df['Week_of_Year'] = pd.to_datetime(df['Date']).dt.isocalendar().week\n",
    "#printing resulting dataset\n",
    "df"
   ]
  },
  {
   "cell_type": "code",
   "execution_count": 35,
   "id": "e30ba99f-3a4e-4e3f-aaf1-ef83e25102c5",
   "metadata": {
    "tags": []
   },
   "outputs": [
    {
     "name": "stdout",
     "output_type": "stream",
     "text": [
      "Average weekly sales report: \n",
      "\n",
      "Week_of_Year\n",
      "40    44776.785714\n",
      "41    45922.619048\n",
      "42    45306.122449\n",
      "43    45603.741497\n",
      "44    43268.849206\n",
      "45    35484.693878\n",
      "46    36007.653061\n",
      "47    35905.612245\n",
      "48    36526.360544\n",
      "49    50378.401361\n",
      "50    53613.945578\n",
      "51    53835.034014\n",
      "52    54030.612245\n",
      "53    54732.142857\n",
      "Name: Sales, dtype: float64\n"
     ]
    }
   ],
   "source": [
    "#Finding average weekly sales \n",
    "print(\"Average weekly sales report: \\n\")\n",
    "print(df.groupby('Week_of_Year')['Sales'].mean())"
   ]
  },
  {
   "cell_type": "code",
   "execution_count": 36,
   "id": "f3ca5440-1303-4310-9adf-940530f7827d",
   "metadata": {
    "tags": []
   },
   "outputs": [
    {
     "name": "stdout",
     "output_type": "stream",
     "text": [
      "Average monthly sales report:\n",
      "\n",
      "Month\n",
      "10    45353.174603\n",
      "11    35985.119048\n",
      "12    53702.380952\n",
      "Name: Sales, dtype: float64\n"
     ]
    }
   ],
   "source": [
    "#Finding average Yearly sales \n",
    "print(\"Average monthly sales report:\\n\")\n",
    "print(df.groupby('Month')['Sales'].mean())"
   ]
  },
  {
   "cell_type": "code",
   "execution_count": 37,
   "id": "537abf52-cf17-4eb5-9946-2329519ee8fb",
   "metadata": {
    "tags": []
   },
   "outputs": [
    {
     "name": "stdout",
     "output_type": "stream",
     "text": [
      "Average Quarterly sales report:\n",
      "\n",
      "Quarter\n",
      "4    45013.558201\n",
      "Name: Sales, dtype: float64\n"
     ]
    }
   ],
   "source": [
    "#Finding average Quarterly sales \n",
    "print(\"Average Quarterly sales report:\\n\")\n",
    "print(df.groupby('Quarter')['Sales'].mean())"
   ]
  },
  {
   "cell_type": "raw",
   "id": "308ad464-8d09-4111-b9e1-03e397419583",
   "metadata": {},
   "source": [
    "============================================================================================================================"
   ]
  },
  {
   "cell_type": "markdown",
   "id": "a22675f7-69c0-4600-8346-774697b85ed8",
   "metadata": {},
   "source": [
    "<h4>3 & 4. <u> Data Visualization & Reporting </u></h4>\n",
    "<p> <ul>● Use appropriate data visualization libraries to build a dashboard for the Head of S&M that includes for the key parameters like \n",
    "    <li> State-wise sales analysis for different groups (kids, women, men, and seniors) </li>\n",
    "    <li> Group-wise sales analysis (kids, women, men, and seniors) across different states. </li>\n",
    "    <li> Time-of-the-day analysis: during which time of the day are sales the highest, and during which time are sales the lowest? [This helps S&M teams design programs for increasing sales such as hyper-personalization and Next Best Offers].\n",
    "The dashboard must contain daily, weekly, monthly and quarterly charts. </li></ul>\n",
    " (Any visualization library can be used for this purpose. However, since statistical analysis is being done, Seaborn is preferred.) </p>\n"
   ]
  },
  {
   "cell_type": "code",
   "execution_count": 57,
   "id": "580ddbb1-cf8b-4294-b80f-a96645a29fb4",
   "metadata": {
    "tags": []
   },
   "outputs": [
    {
     "data": {
      "text/html": [
       "<div>\n",
       "<style scoped>\n",
       "    .dataframe tbody tr th:only-of-type {\n",
       "        vertical-align: middle;\n",
       "    }\n",
       "\n",
       "    .dataframe tbody tr th {\n",
       "        vertical-align: top;\n",
       "    }\n",
       "\n",
       "    .dataframe thead th {\n",
       "        text-align: right;\n",
       "    }\n",
       "</style>\n",
       "<table border=\"1\" class=\"dataframe\">\n",
       "  <thead>\n",
       "    <tr style=\"text-align: right;\">\n",
       "      <th></th>\n",
       "      <th>Date</th>\n",
       "      <th>Time</th>\n",
       "      <th>State</th>\n",
       "      <th>Group</th>\n",
       "      <th>Unit</th>\n",
       "      <th>Sales</th>\n",
       "      <th>Sales_log</th>\n",
       "      <th>Month</th>\n",
       "      <th>Quarter</th>\n",
       "      <th>Week_of_Year</th>\n",
       "    </tr>\n",
       "  </thead>\n",
       "  <tbody>\n",
       "    <tr>\n",
       "      <th>0</th>\n",
       "      <td>2020-10-01</td>\n",
       "      <td>Morning</td>\n",
       "      <td>WA</td>\n",
       "      <td>Kids</td>\n",
       "      <td>8</td>\n",
       "      <td>20000</td>\n",
       "      <td>9.903488</td>\n",
       "      <td>10</td>\n",
       "      <td>4</td>\n",
       "      <td>40</td>\n",
       "    </tr>\n",
       "    <tr>\n",
       "      <th>1</th>\n",
       "      <td>2020-10-01</td>\n",
       "      <td>Morning</td>\n",
       "      <td>WA</td>\n",
       "      <td>Men</td>\n",
       "      <td>8</td>\n",
       "      <td>20000</td>\n",
       "      <td>9.903488</td>\n",
       "      <td>10</td>\n",
       "      <td>4</td>\n",
       "      <td>40</td>\n",
       "    </tr>\n",
       "    <tr>\n",
       "      <th>2</th>\n",
       "      <td>2020-10-01</td>\n",
       "      <td>Morning</td>\n",
       "      <td>WA</td>\n",
       "      <td>Women</td>\n",
       "      <td>4</td>\n",
       "      <td>10000</td>\n",
       "      <td>9.210340</td>\n",
       "      <td>10</td>\n",
       "      <td>4</td>\n",
       "      <td>40</td>\n",
       "    </tr>\n",
       "    <tr>\n",
       "      <th>3</th>\n",
       "      <td>2020-10-01</td>\n",
       "      <td>Morning</td>\n",
       "      <td>WA</td>\n",
       "      <td>Seniors</td>\n",
       "      <td>15</td>\n",
       "      <td>37500</td>\n",
       "      <td>10.532096</td>\n",
       "      <td>10</td>\n",
       "      <td>4</td>\n",
       "      <td>40</td>\n",
       "    </tr>\n",
       "    <tr>\n",
       "      <th>4</th>\n",
       "      <td>2020-10-01</td>\n",
       "      <td>Afternoon</td>\n",
       "      <td>WA</td>\n",
       "      <td>Kids</td>\n",
       "      <td>3</td>\n",
       "      <td>7500</td>\n",
       "      <td>8.922658</td>\n",
       "      <td>10</td>\n",
       "      <td>4</td>\n",
       "      <td>40</td>\n",
       "    </tr>\n",
       "  </tbody>\n",
       "</table>\n",
       "</div>"
      ],
      "text/plain": [
       "        Date        Time State     Group  Unit  Sales  Sales_log  Month  \\\n",
       "0 2020-10-01     Morning    WA      Kids     8  20000   9.903488     10   \n",
       "1 2020-10-01     Morning    WA       Men     8  20000   9.903488     10   \n",
       "2 2020-10-01     Morning    WA     Women     4  10000   9.210340     10   \n",
       "3 2020-10-01     Morning    WA   Seniors    15  37500  10.532096     10   \n",
       "4 2020-10-01   Afternoon    WA      Kids     3   7500   8.922658     10   \n",
       "\n",
       "   Quarter  Week_of_Year  \n",
       "0        4            40  \n",
       "1        4            40  \n",
       "2        4            40  \n",
       "3        4            40  \n",
       "4        4            40  "
      ]
     },
     "execution_count": 57,
     "metadata": {},
     "output_type": "execute_result"
    }
   ],
   "source": [
    "#Australian Apparal Sales 2020 4th Quater data\n",
    "df.head()"
   ]
  },
  {
   "cell_type": "markdown",
   "id": "3b11b97f-2620-47fc-848d-ba6c5b621ebd",
   "metadata": {},
   "source": [
    "<h4> <font color='blue'> Choosing Seaborn library for data visualization. Seaborn are easy to use, simple syntax and few of its built themes and color palettes makes it more visually appealing compared to matplotlib.  </font> </h4>"
   ]
  },
  {
   "cell_type": "markdown",
   "id": "831660d0-242c-4c63-946d-1d5c98ac55f4",
   "metadata": {
    "tags": []
   },
   "source": [
    "<h5>State-wise sales analysis for different groups (kids, women, men, and seniors) </h5>"
   ]
  },
  {
   "cell_type": "code",
   "execution_count": 59,
   "id": "a39db33e-1c85-47e2-9087-160c62e6cd57",
   "metadata": {
    "tags": []
   },
   "outputs": [
    {
     "data": {
      "image/png": "[encoded data removed]",
      "text/plain": [
       "<Figure size 1000x800 with 1 Axes>"
      ]
     },
     "metadata": {},
     "output_type": "display_data"
    }
   ],
   "source": [
    "import pandas as pd\n",
    "import matplotlib.pyplot as plt\n",
    "import seaborn as sns\n",
    "\n",
    "#Seaborn defining theme and style\n",
    "sns.set_theme()\n",
    "sns.set_style('darkgrid')\n",
    "# Grouped by 'State' and 'Group' and calculating the sum of 'Sales'\n",
    "grouped_data = df.groupby(['State', 'Group'])['Sales'].sum().reset_index()\n",
    "plt.figure(figsize=(10, 8))\n",
    "#Barplotting the data. \n",
    "sns.barplot(data=grouped_data, x='State', y='Sales', hue='Group')\n",
    "\n",
    "plt.title('Sales by State and Group')\n",
    "plt.xlabel('State')\n",
    "plt.ylabel('Sales')\n",
    "plt.xticks(rotation=30)\n",
    "plt.legend(title='Group')\n",
    "plt.tight_layout()\n",
    "plt.show()\n"
   ]
  },
  {
   "cell_type": "markdown",
   "id": "70b387d1-4fb0-4666-a4e0-8448e51c71c6",
   "metadata": {},
   "source": [
    "<h5><font color='green'><u> Inference from above chart: </u></font></h5>\n",
    "<ol>\n",
    "    <li>From the above plot, it is evident that Victoria State is having highest sales for all groups/section</li>\n",
    "    <li>From the above plot, most of the states have more sales in women appreal than for any other group</li>\n",
    "</ol>"
   ]
  },
  {
   "cell_type": "raw",
   "id": "a98e7d8e-b166-425d-8a39-0d2bd0bbbd8c",
   "metadata": {},
   "source": [
    "----------------------------------------------------------------------------------------------------------------------------"
   ]
  },
  {
   "cell_type": "markdown",
   "id": "9bc4bb56-3ae8-4fdc-82cb-bf58e36fba10",
   "metadata": {
    "tags": []
   },
   "source": [
    "<h5> Group-wise sales analysis (kids, women, men, and seniors) across different states. </h5>"
   ]
  },
  {
   "cell_type": "code",
   "execution_count": 60,
   "id": "cd28535c-2820-4b9f-953e-f7cd59fcb752",
   "metadata": {
    "tags": []
   },
   "outputs": [
    {
     "data": {
      "image/png": "[encoded data removed]",
      "text/plain": [
       "<Figure size 1000x800 with 1 Axes>"
      ]
     },
     "metadata": {},
     "output_type": "display_data"
    }
   ],
   "source": [
    "import pandas as pd\n",
    "import matplotlib.pyplot as plt\n",
    "import seaborn as sns\n",
    "\n",
    "#Seaborn defining theme and style\n",
    "sns.set_theme()\n",
    "sns.set_style('darkgrid')\n",
    "\n",
    "# Grouped by 'State' and 'Group' and calculating the sum of 'Sales'\n",
    "grouped_data = df.groupby(['State', 'Group'])['Sales'].sum().reset_index()\n",
    "plt.figure(figsize=(10, 8))\n",
    "#Barplotting the data. \n",
    "sns.barplot(data=grouped_data, x='Group', y='Sales', hue='State')\n",
    "\n",
    "plt.title('Sales by State and Group')\n",
    "plt.xlabel('State')\n",
    "plt.ylabel('Sales')\n",
    "plt.xticks(rotation=30)\n",
    "plt.legend(title='State')\n",
    "plt.tight_layout()\n",
    "plt.show()\n"
   ]
  },
  {
   "cell_type": "markdown",
   "id": "bd0b88a1-bcbd-4b24-a54d-9ce967ce27d8",
   "metadata": {
    "tags": []
   },
   "source": [
    "<h5><font color='green'><u> Inference from above chart: </u></font></h5>\n",
    "<ol>\n",
    "    <li>From the above plot, it is evident that Victoria State is having highest sales for all groups/section. Followed by New South Wales and then South Australia.</li>\n",
    "    <li>From the above plot, slaes of different group appreal in a given state is more or less same.</li>\n",
    "</ol>"
   ]
  },
  {
   "cell_type": "raw",
   "id": "47d2a9b7-a651-44eb-a10f-21c0df93c831",
   "metadata": {},
   "source": [
    "--------------------------------------------------------------------------------------------------------------------------------"
   ]
  },
  {
   "cell_type": "markdown",
   "id": "84feaee3-40aa-48b8-80df-146206cdc163",
   "metadata": {
    "tags": []
   },
   "source": [
    "<h5> Time-of-the-day analysis: during which time of the day are sales the highest, and during which time are sales the lowest?</h5>"
   ]
  },
  {
   "cell_type": "code",
   "execution_count": 61,
   "id": "63dde1d9-f0d8-4c09-be2d-31c68b42116c",
   "metadata": {
    "tags": []
   },
   "outputs": [
    {
     "data": {
      "text/plain": [
       "Time\n",
       " Afternoon    114007500\n",
       " Evening      112087500\n",
       " Morning      114207500\n",
       "Name: Sales, dtype: int64"
      ]
     },
     "execution_count": 61,
     "metadata": {},
     "output_type": "execute_result"
    }
   ],
   "source": [
    "# Total sales by time \n",
    "df.groupby(['Time'])['Sales'].sum()"
   ]
  },
  {
   "cell_type": "code",
   "execution_count": 62,
   "id": "01fd3c45-c8f6-445c-b4b4-0231cf99e22e",
   "metadata": {
    "tags": []
   },
   "outputs": [
    {
     "data": {
      "image/png": "[encoded data removed]",
      "text/plain": [
       "<Figure size 600x400 with 1 Axes>"
      ]
     },
     "metadata": {},
     "output_type": "display_data"
    }
   ],
   "source": [
    "#Plotting chart\n",
    "import pandas as pd\n",
    "import matplotlib.pyplot as plt\n",
    "import seaborn as sns\n",
    "\n",
    "\n",
    "#Seaborn defining theme and style\n",
    "sns.set_theme()\n",
    "sns.set_style('darkgrid')\n",
    "\n",
    "plt.figure(figsize=(6, 4))\n",
    "# Grouped by 'State' and 'Group' and calculating the sum of 'Sales'\n",
    "time_sales = df.groupby('Time')['Sales'].sum().reset_index()\n",
    "\n",
    "#Barplotting the data. \n",
    "sns.lineplot(data=time_sales, x='Time', y='Sales', marker=\"o\", color = 'green')\n",
    "\n",
    "plt.title('Sales by Time')\n",
    "plt.xlabel('Time')\n",
    "plt.ylabel('Sales')\n",
    "plt.xticks(rotation=30)\n",
    "plt.tight_layout()\n",
    "plt.show()"
   ]
  },
  {
   "cell_type": "markdown",
   "id": "68cdf0d5-3350-45be-a68f-ef93ae6bc76a",
   "metadata": {},
   "source": [
    "<h5><font color='green'><u> Inference from above chart: </u></font></h5>\n",
    "<ul>\n",
    "    <li>From the above plot, it appears the <b> maximum sales </b>is happening in <b>'Morning' </b> time and <b> minimum sales </b> happens during <b> 'Evening' time </b>. Based on this company can make strategy a) To have enough staffing during morning hours. b) Make plans on how to increase evening sales. </li>\n",
    "</ul>"
   ]
  },
  {
   "cell_type": "raw",
   "id": "c499173d-20b8-4b7e-93b5-eff9afe920f4",
   "metadata": {
    "tags": []
   },
   "source": [
    "------------------------------------------------------------------------------------------------------------------------------"
   ]
  },
  {
   "cell_type": "markdown",
   "id": "5c31efdb-042a-4df5-985e-7ad057ea36ef",
   "metadata": {},
   "source": [
    "<h5> Daily, weekly, monthly and quarterly sales charts </h5>"
   ]
  },
  {
   "cell_type": "code",
   "execution_count": 28,
   "id": "f81320de-9169-49a9-baa2-afc8a41c2e8d",
   "metadata": {
    "tags": []
   },
   "outputs": [],
   "source": [
    "#Sales by months "
   ]
  },
  {
   "cell_type": "code",
   "execution_count": 67,
   "id": "72c304c9-d834-4307-9c22-b7489b376168",
   "metadata": {
    "tags": []
   },
   "outputs": [
    {
     "data": {
      "image/png": "[encoded data removed]",
      "text/plain": [
       "<Figure size 700x600 with 1 Axes>"
      ]
     },
     "metadata": {},
     "output_type": "display_data"
    }
   ],
   "source": [
    "import pandas as pd\n",
    "import matplotlib.pyplot as plt\n",
    "import seaborn as sns\n",
    "\n",
    "#Seaborn defining theme and style\n",
    "sns.set_theme()\n",
    "sns.set_style('darkgrid')\n",
    "\n",
    "# Grouped by 'State' and 'Group' and calculating the sum of 'Sales'\n",
    "grouped_data = df.groupby(['Month'])['Sales'].sum().reset_index()\n",
    "plt.figure(figsize=(7, 6))\n",
    "#Barplotting the data.\n",
    "plt.title('Sales by Month')\n",
    "plt.xlabel('State')\n",
    "plt.ylabel('Sales')\n",
    "plt.xticks(rotation=30)\n",
    "\n",
    "# Rename x-axis labels\n",
    "new_labels = ['Oct 2020', 'Nov 2020', 'Dec 2020']\n",
    "sns.barplot(data=grouped_data, x='Month', y='Sales', hue=new_labels)\n",
    "plt.gca().set_xticklabels(new_labels)\n",
    "plt.show()\n"
   ]
  },
  {
   "cell_type": "markdown",
   "id": "3899badf-7422-4cda-81d1-0c142f5427c7",
   "metadata": {
    "tags": []
   },
   "source": [
    "<h5><font color='green'><u> Inference from above chart: </u></font></h5>\n",
    "<ul>\n",
    "    <li>From the above plot, the sales for month of <b> December </b> was the highest. Christmas and New year could be the possible reason for high sales in december compared to other months.</li>\n",
    "</ul>"
   ]
  },
  {
   "cell_type": "raw",
   "id": "3bb184a1-821e-42c7-9960-df454d6415ad",
   "metadata": {
    "tags": []
   },
   "source": [
    "---------------------------------------------------------------------------------------------------------------------------"
   ]
  },
  {
   "cell_type": "code",
   "execution_count": 29,
   "id": "dfd87c32-fc9d-4a6c-89ac-8fa8c7c132bd",
   "metadata": {
    "tags": []
   },
   "outputs": [],
   "source": [
    "#Sales by Week of the year"
   ]
  },
  {
   "cell_type": "code",
   "execution_count": 68,
   "id": "ae008178-125e-4e40-a3b1-05bda245a9e2",
   "metadata": {
    "tags": []
   },
   "outputs": [
    {
     "data": {
      "image/png": "[encoded data removed]",
      "text/plain": [
       "<Figure size 1000x800 with 1 Axes>"
      ]
     },
     "metadata": {},
     "output_type": "display_data"
    }
   ],
   "source": [
    "import pandas as pd\n",
    "import matplotlib.pyplot as plt\n",
    "import seaborn as sns\n",
    "\n",
    "#Seaborn defining theme and style\n",
    "sns.set_theme()\n",
    "sns.set_style('darkgrid')\n",
    "\n",
    "# Grouped by 'State' and 'Group' and calculating the sum of 'Sales'\n",
    "grouped_data = df.groupby(['Week_of_Year'])['Sales'].sum().reset_index()\n",
    "plt.figure(figsize=(10, 8))\n",
    "#Barplotting the data.\n",
    "plt.title('Sales by Week of Year')\n",
    "plt.xlabel('State')\n",
    "plt.ylabel('Sales')\n",
    "plt.xticks(rotation=30)\n",
    "\n",
    "ax = sns.pointplot(data=grouped_data, x='Week_of_Year', y='Sales', hue='Week_of_Year')\n",
    "sns.move_legend(ax, \"center left\")\n",
    "plt.show()\n"
   ]
  },
  {
   "cell_type": "markdown",
   "id": "6591dc27-6fea-4571-8830-a1e4fdf2b62a",
   "metadata": {
    "tags": []
   },
   "source": [
    "<h5><font color='green'><u> Inference from above chart: </u></font></h5>\n",
    "<ul>\n",
    "    <li>From the above plot, it appears that in <b> 52nd week </b> (i.e. Dec 21st 2020 to Dec 27th 2020), the sale was <b> highest </b>. This is the christmas week, so it is expected to people to purchase gifts. </li>\n",
    "    <li>From the above plot, it appears that in <b> 53rd week </b> (i.e. Dec 28th 2020 to Jan 3rd 2021), the sale was <b> lowest </b>. Due to new year, shops could be closed causing sales to dip. </li> \n",
    "</ul>"
   ]
  },
  {
   "cell_type": "raw",
   "id": "ecb11ad3-80ba-4968-9d03-22d3c5216a24",
   "metadata": {
    "tags": []
   },
   "source": [
    "------------------------------------------------------------------------------------------------------------------------"
   ]
  },
  {
   "cell_type": "code",
   "execution_count": 79,
   "id": "c7a59849-9e6c-4ef8-8a3a-acf56e04e425",
   "metadata": {
    "tags": []
   },
   "outputs": [
    {
     "data": {
      "image/png": "[encoded data removed]",
      "text/plain": [
       "<Figure size 1000x800 with 1 Axes>"
      ]
     },
     "metadata": {},
     "output_type": "display_data"
    }
   ],
   "source": [
    "import pandas as pd\n",
    "import matplotlib.pyplot as plt\n",
    "import seaborn as sns\n",
    "\n",
    "#Seaborn defining theme and style\n",
    "sns.set_theme()\n",
    "sns.set_style('darkgrid')\n",
    "# Grouped by 'State' and 'Group' and calculating the sum of 'Sales'\n",
    "plt.figure(figsize=(10, 8))\n",
    "grouped_data = df.groupby(['Date'])['Sales'].sum().reset_index()\n",
    "\n",
    "#Barplotting the data. \n",
    "sns.scatterplot(data=grouped_data, x='Date', y='Sales')\n",
    "\n",
    "plt.title('Sales by Date')\n",
    "plt.xlabel('Date')\n",
    "plt.ylabel('Sales')\n",
    "plt.xticks(rotation=30)\n",
    "#plt.legend(title='Group')\n",
    "plt.tight_layout()\n",
    "plt.show()"
   ]
  },
  {
   "cell_type": "markdown",
   "id": "a09bac7d-789c-4475-b077-22678a92b684",
   "metadata": {
    "tags": []
   },
   "source": [
    "<h5><font color='green'><u> Inference from above chart: </u></font></h5>\n",
    "<ul>\n",
    "    <li>From the above chart, it appears the sales in <b> December </b> is <b> highest </b>. Followed by 'October' and 'November'. </li>\n",
    "</ul>"
   ]
  },
  {
   "cell_type": "raw",
   "id": "32fbc84a-da62-4cd5-97b0-4e35adba6dd3",
   "metadata": {},
   "source": [
    "-----------------------------------------------------------------------------------------------------------------------------"
   ]
  },
  {
   "cell_type": "code",
   "execution_count": 117,
   "id": "d358c1e7-25dc-48ef-8d6f-dd2b292bb016",
   "metadata": {
    "tags": []
   },
   "outputs": [
    {
     "data": {
      "text/html": [
       "<div>\n",
       "<style scoped>\n",
       "    .dataframe tbody tr th:only-of-type {\n",
       "        vertical-align: middle;\n",
       "    }\n",
       "\n",
       "    .dataframe tbody tr th {\n",
       "        vertical-align: top;\n",
       "    }\n",
       "\n",
       "    .dataframe thead th {\n",
       "        text-align: right;\n",
       "    }\n",
       "</style>\n",
       "<table border=\"1\" class=\"dataframe\">\n",
       "  <thead>\n",
       "    <tr style=\"text-align: right;\">\n",
       "      <th></th>\n",
       "      <th>Date</th>\n",
       "      <th>Unit</th>\n",
       "      <th>Sales</th>\n",
       "      <th>Sales_log</th>\n",
       "      <th>Month</th>\n",
       "      <th>Quarter</th>\n",
       "      <th>Week_of_Year</th>\n",
       "    </tr>\n",
       "  </thead>\n",
       "  <tbody>\n",
       "    <tr>\n",
       "      <th>count</th>\n",
       "      <td>7560</td>\n",
       "      <td>7560.000000</td>\n",
       "      <td>7560.000000</td>\n",
       "      <td>7560.000000</td>\n",
       "      <td>7560.000000</td>\n",
       "      <td>7560.0</td>\n",
       "      <td>7560.0</td>\n",
       "    </tr>\n",
       "    <tr>\n",
       "      <th>mean</th>\n",
       "      <td>2020-11-15 04:00:00.000000256</td>\n",
       "      <td>18.005423</td>\n",
       "      <td>45013.558201</td>\n",
       "      <td>10.446010</td>\n",
       "      <td>11.000000</td>\n",
       "      <td>4.0</td>\n",
       "      <td>46.455556</td>\n",
       "    </tr>\n",
       "    <tr>\n",
       "      <th>min</th>\n",
       "      <td>2020-10-01 00:00:00</td>\n",
       "      <td>2.000000</td>\n",
       "      <td>5000.000000</td>\n",
       "      <td>8.517193</td>\n",
       "      <td>10.000000</td>\n",
       "      <td>4.0</td>\n",
       "      <td>40.0</td>\n",
       "    </tr>\n",
       "    <tr>\n",
       "      <th>25%</th>\n",
       "      <td>2020-10-23 00:00:00</td>\n",
       "      <td>8.000000</td>\n",
       "      <td>20000.000000</td>\n",
       "      <td>9.903488</td>\n",
       "      <td>10.000000</td>\n",
       "      <td>4.0</td>\n",
       "      <td>43.0</td>\n",
       "    </tr>\n",
       "    <tr>\n",
       "      <th>50%</th>\n",
       "      <td>2020-11-15 12:00:00</td>\n",
       "      <td>14.000000</td>\n",
       "      <td>35000.000000</td>\n",
       "      <td>10.463103</td>\n",
       "      <td>11.000000</td>\n",
       "      <td>4.0</td>\n",
       "      <td>46.5</td>\n",
       "    </tr>\n",
       "    <tr>\n",
       "      <th>75%</th>\n",
       "      <td>2020-12-08 00:00:00</td>\n",
       "      <td>26.000000</td>\n",
       "      <td>65000.000000</td>\n",
       "      <td>11.082143</td>\n",
       "      <td>12.000000</td>\n",
       "      <td>4.0</td>\n",
       "      <td>50.0</td>\n",
       "    </tr>\n",
       "    <tr>\n",
       "      <th>max</th>\n",
       "      <td>2020-12-30 00:00:00</td>\n",
       "      <td>65.000000</td>\n",
       "      <td>162500.000000</td>\n",
       "      <td>11.998433</td>\n",
       "      <td>12.000000</td>\n",
       "      <td>4.0</td>\n",
       "      <td>53.0</td>\n",
       "    </tr>\n",
       "    <tr>\n",
       "      <th>std</th>\n",
       "      <td>NaN</td>\n",
       "      <td>12.901403</td>\n",
       "      <td>32253.506944</td>\n",
       "      <td>0.767054</td>\n",
       "      <td>0.816551</td>\n",
       "      <td>0.0</td>\n",
       "      <td>3.786662</td>\n",
       "    </tr>\n",
       "  </tbody>\n",
       "</table>\n",
       "</div>"
      ],
      "text/plain": [
       "                                Date         Unit          Sales    Sales_log  \\\n",
       "count                           7560  7560.000000    7560.000000  7560.000000   \n",
       "mean   2020-11-15 04:00:00.000000256    18.005423   45013.558201    10.446010   \n",
       "min              2020-10-01 00:00:00     2.000000    5000.000000     8.517193   \n",
       "25%              2020-10-23 00:00:00     8.000000   20000.000000     9.903488   \n",
       "50%              2020-11-15 12:00:00    14.000000   35000.000000    10.463103   \n",
       "75%              2020-12-08 00:00:00    26.000000   65000.000000    11.082143   \n",
       "max              2020-12-30 00:00:00    65.000000  162500.000000    11.998433   \n",
       "std                              NaN    12.901403   32253.506944     0.767054   \n",
       "\n",
       "             Month  Quarter  Week_of_Year  \n",
       "count  7560.000000   7560.0        7560.0  \n",
       "mean     11.000000      4.0     46.455556  \n",
       "min      10.000000      4.0          40.0  \n",
       "25%      10.000000      4.0          43.0  \n",
       "50%      11.000000      4.0          46.5  \n",
       "75%      12.000000      4.0          50.0  \n",
       "max      12.000000      4.0          53.0  \n",
       "std       0.816551      0.0      3.786662  "
      ]
     },
     "execution_count": 117,
     "metadata": {},
     "output_type": "execute_result"
    }
   ],
   "source": [
    "#Pandas has describe funtion which gives stats of the different parameters\n",
    "df.describe()"
   ]
  },
  {
   "cell_type": "code",
   "execution_count": 50,
   "id": "b104e530-0e2e-40f6-be60-55f3482ce474",
   "metadata": {},
   "outputs": [
    {
     "name": "stdout",
     "output_type": "stream",
     "text": [
      "Sales of each day: \n",
      "\n",
      "          Date    Sales\n",
      "0  2020-10-01  3720000\n",
      "1  2020-10-02  3715000\n",
      "2  2020-10-03  3890000\n",
      "3  2020-10-04  3720000\n",
      "4  2020-10-05  3862500\n",
      "..        ...      ...\n",
      "85 2020-12-26  4715000\n",
      "86 2020-12-27  4637500\n",
      "87 2020-12-28  4595000\n",
      "88 2020-12-29  4607500\n",
      "89 2020-12-30  4590000\n",
      "\n",
      "[90 rows x 2 columns]\n",
      "\n",
      "\n",
      " Stats for Sales by days: \n",
      "\n",
      "\n",
      "count    9.000000e+01\n",
      "mean     3.781139e+06\n",
      "std      6.248873e+05\n",
      "min      2.725000e+06\n",
      "25%      3.086875e+06\n",
      "50%      3.798750e+06\n",
      "75%      4.428750e+06\n",
      "max      4.765000e+06\n",
      "Name: Sales, dtype: float64\n",
      "\n",
      "\n",
      " Plotting the chart for Sales by Days:\n"
     ]
    },
    {
     "data": {
      "text/plain": [
       "<Figure size 1000x800 with 0 Axes>"
      ]
     },
     "metadata": {},
     "output_type": "display_data"
    },
    {
     "data": {
      "image/png": "[encoded data removed]",
      "text/plain": [
       "<Figure size 640x480 with 1 Axes>"
      ]
     },
     "metadata": {},
     "output_type": "display_data"
    },
    {
     "name": "stdout",
     "output_type": "stream",
     "text": [
      "\n",
      "\n",
      "Maximum sales on day:\n",
      "Date     2020-12-30 00:00:00\n",
      "Sales                4765000\n",
      "dtype: object\n",
      "\n",
      "\n",
      "Minimum sales on day:\n",
      "Date     2020-10-01 00:00:00\n",
      "Sales                2725000\n",
      "dtype: object\n"
     ]
    }
   ],
   "source": [
    "# Ploting the boxchart for Sales days\n",
    "import pandas as pd\n",
    "import matplotlib.pyplot as plt\n",
    "import seaborn as sns\n",
    "\n",
    "#Seaborn defining theme and style\n",
    "sns.set_theme()\n",
    "sns.set_style('darkgrid')\n",
    "# Grouped by 'State' and 'Group' and calculating the sum of 'Sales'\n",
    "plt.figure(figsize=(10, 8))\n",
    "grouped_data = df.groupby(['Date'])['Sales'].sum().reset_index()\n",
    "print(\"Sales of each day: \\n\\n\", grouped_data)\n",
    "\n",
    "#Stats for Sales by days:\n",
    "print(\"\\n\\n Stats for Sales by days: \\n\\n\")\n",
    "print(grouped_data['Sales'].describe())\n",
    "\n",
    "#Barplotting the data. \n",
    "plt.figure()\n",
    "sns.boxplot(grouped_data['Sales'])\n",
    "\n",
    "print(\"\\n\\n Plotting the chart for Sales by Days:\")\n",
    "plt.title('Boxplot of Sales by Days')\n",
    "plt.xlabel('Date')\n",
    "plt.ylabel('Sales')\n",
    "plt.tight_layout()\n",
    "plt.show()\n",
    "\n",
    "#Day with maximum sales\n",
    "print(\"\\n\\nMaximum sales on day:\")\n",
    "print(grouped_data[['Date', 'Sales']].max())\n",
    "\n",
    "#Day with mimimum sales\n",
    "print(\"\\n\\nMinimum sales on day:\")\n",
    "print(grouped_data[['Date', 'Sales']].min())"
   ]
  },
  {
   "cell_type": "markdown",
   "id": "d5a801b7-a9a1-479a-af32-8dd0c08aba0c",
   "metadata": {
    "tags": []
   },
   "source": [
    "<h5><font color='green'><u> Inference from above chart: </u></font></h5>\n",
    "<ul>\n",
    "    <li> <b> The pandas stats and boxplot for sales matches. </b> The max, 75% (3rd quartile, Q3), 50% (i.e. 2nd quartile, Q2), 25% (i.e. 1st quartile, Q1) and min matches to the stat provided by pandas describe function. </li>\n",
    "    <li><b>Maximum Sales</b> on day : <b> 2020-12-30</b></li>\n",
    "    <li><b>Minimum Sales</b> on day : <b> 2020-10-01</b></li>\n",
    "</ul>"
   ]
  },
  {
   "cell_type": "raw",
   "id": "7e87c893-18c7-42e7-b335-d0ffcd30a8c0",
   "metadata": {},
   "source": [
    "-------------------------------------------------------------------------------------------------------------------------------"
   ]
  },
  {
   "cell_type": "markdown",
   "id": "ba0252da-847a-4bed-ba30-4b3d16946308",
   "metadata": {},
   "source": [
    "<mark> Note: </mark>The dataset is the sales data for the 4th quarter of the year. Dataset for other quarter is not provided so could able to compare and study."
   ]
  },
  {
   "cell_type": "markdown",
   "id": "1e2c036e-d7fb-404e-b191-008330e47140",
   "metadata": {},
   "source": [
    "<h5><Center> -------- End of Project ----------- </center></h5>"
   ]
  },
  {
   "cell_type": "raw",
   "id": "eb6ada04-a853-4099-8064-15a0caa708e5",
   "metadata": {},
   "source": [
    "=================================================================================================================================="
   ]
  }
 ],
 "metadata": {
  "kernelspec": {
   "display_name": "Python 3 (ipykernel)",
   "language": "python",
   "name": "python3"
  },
  "language_info": {
   "codemirror_mode": {
    "name": "ipython",
    "version": 3
   },
   "file_extension": ".py",
   "mimetype": "text/x-python",
   "name": "python",
   "nbconvert_exporter": "python",
   "pygments_lexer": "ipython3",
   "version": "3.11.5"
  }
 },
 "nbformat": 4,
 "nbformat_minor": 5
}
